{
 "cells": [
  {
   "cell_type": "code",
   "execution_count": 1,
   "metadata": {},
   "outputs": [],
   "source": [
    "from qiskit import QuantumCircuit, QuantumRegister, ClassicalRegister, execute, Aer, IBMQ, BasicAer\n",
    "import math\n",
    "%matplotlib inline"
   ]
  },
  {
   "cell_type": "code",
   "execution_count": 16,
   "metadata": {},
   "outputs": [],
   "source": [
    "alice = QuantumRegister(1,name='alice')\n",
    "fiber = QuantumRegister(1,name='fiber')\n",
    "bob   = QuantumRegister(1,name='bob')\n",
    "alice_had = ClassicalRegister(1,name='ahad')\n",
    "alice_val = ClassicalRegister(1,name='aval')\n",
    "fiber_val = ClassicalRegister(1,name='fval')\n",
    "bob_had   = ClassicalRegister(1,name='bhad')\n",
    "bob_val   = ClassicalRegister(1,name='bval')\n",
    "qc = QuantumCircuit(alice,fiber,bob,alice_had,alice_val,fibre_val,bob_had,bob_val)"
   ]
  },
  {
   "cell_type": "code",
   "execution_count": 17,
   "metadata": {},
   "outputs": [
    {
     "data": {
      "text/plain": [
       "<qiskit.circuit.instructionset.InstructionSet at 0x7f7a48b89e80>"
      ]
     },
     "execution_count": 17,
     "metadata": {},
     "output_type": "execute_result"
    }
   ],
   "source": [
    "qc.reset(alice)\n",
    "qc.h(alice)\n",
    "qc.measure(alice,alice_had)\n",
    "qc.reset(alice)\n",
    "qc.h(alice)\n",
    "qc.measure(alice,alice_val)"
   ]
  },
  {
   "cell_type": "code",
   "execution_count": 18,
   "metadata": {},
   "outputs": [
    {
     "data": {
      "text/plain": [
       "<qiskit.circuit.instructionset.InstructionSet at 0x7f7a48b897f0>"
      ]
     },
     "execution_count": 18,
     "metadata": {},
     "output_type": "execute_result"
    }
   ],
   "source": [
    "qc.reset(alice)\n",
    "qc.x(alice).c_if(alice_val,1)\n",
    "qc.h(alice).c_if(alice_had,1)"
   ]
  },
  {
   "cell_type": "code",
   "execution_count": 19,
   "metadata": {},
   "outputs": [
    {
     "data": {
      "text/plain": [
       "<qiskit.circuit.instructionset.InstructionSet at 0x7f7a48b18390>"
      ]
     },
     "execution_count": 19,
     "metadata": {},
     "output_type": "execute_result"
    }
   ],
   "source": [
    "qc.swap(alice,fiber)"
   ]
  },
  {
   "cell_type": "code",
   "execution_count": 57,
   "metadata": {},
   "outputs": [
    {
     "data": {
      "text/plain": [
       "<qiskit.extensions.standard.barrier.Barrier at 0x7f7a485ee7f0>"
      ]
     },
     "execution_count": 57,
     "metadata": {},
     "output_type": "execute_result"
    }
   ],
   "source": [
    "spy_is_present = False\n",
    "if spy_is_present:\n",
    "    qc.barrier()\n",
    "    spy_had = True\n",
    "    if spy_had:\n",
    "        qc.h(fiber)\n",
    "    qc.measure(fiber,fiber_val)\n",
    "    qc.reset(fiber)\n",
    "    qc.x(fiber).c_if(fiber_val,1)\n",
    "    if spy_had:\n",
    "        qc.h(fiber)\n",
    "qc.barrier()"
   ]
  },
  {
   "cell_type": "code",
   "execution_count": 58,
   "metadata": {},
   "outputs": [
    {
     "data": {
      "text/plain": [
       "<qiskit.circuit.instructionset.InstructionSet at 0x7f7a486a9940>"
      ]
     },
     "execution_count": 58,
     "metadata": {},
     "output_type": "execute_result"
    }
   ],
   "source": [
    "qc.reset(bob)\n",
    "qc.h(bob)\n",
    "qc.measure(bob,bob_had)"
   ]
  },
  {
   "cell_type": "code",
   "execution_count": 59,
   "metadata": {},
   "outputs": [
    {
     "data": {
      "text/plain": [
       "<qiskit.circuit.instructionset.InstructionSet at 0x7f7a486a9ef0>"
      ]
     },
     "execution_count": 59,
     "metadata": {},
     "output_type": "execute_result"
    }
   ],
   "source": [
    "qc.swap(fiber,bob)\n",
    "qc.h(bob).c_if(bob_had,1)\n",
    "qc.measure(bob,bob_val)"
   ]
  },
  {
   "cell_type": "code",
   "execution_count": 60,
   "metadata": {},
   "outputs": [],
   "source": [
    "backend = BasicAer.get_backend('statevector_simulator')\n",
    "job = execute(qc,backend)\n",
    "result = job.result()"
   ]
  },
  {
   "cell_type": "code",
   "execution_count": 66,
   "metadata": {},
   "outputs": [
    {
     "name": "stdout",
     "output_type": "stream",
     "text": [
      "counts:  {'1 1 0 0 1': 1}\n",
      "No spies\n"
     ]
    }
   ],
   "source": [
    "counts = result.get_counts(qc)\n",
    "print('counts: ',counts)\n",
    "caught = False\n",
    "for key,val in counts.items():\n",
    "    ahad,aval,f,bhad,bval = (int(x) for x in key.split(' '))\n",
    "    if ahad == bhad:\n",
    "        if aval != bval:\n",
    "            print(\"Caught a spy!!\")\n",
    "            caught = True\n",
    "if not caught:\n",
    "    print(\"No spies\")"
   ]
  },
  {
   "cell_type": "code",
   "execution_count": 55,
   "metadata": {},
   "outputs": [
    {
     "name": "stdout",
     "output_type": "stream",
     "text": [
      "[1.+0.j 0.+0.j 0.+0.j 0.+0.j 0.+0.j 0.+0.j 0.+0.j 0.+0.j]\n"
     ]
    },
    {
     "data": {
      "text/html": [
       "<pre style=\"word-wrap: normal;white-space: pre;line-height: 15px;\">                 ┌───┐┌─┐     ┌───┐┌─┐      ┌───┐  ┌───┐     ░              »\n",
       "alice_0: |0>─|0>─┤ H ├┤M├─|0>─┤ H ├┤M├─|0>──┤ X ├──┤ H ├──X──░──────────────»\n",
       "                 └───┘└╥┘     └───┘└╥┘      └─┬─┘  └─┬─┘  │  ░ ┌───┐┌─┐     »\n",
       "fiber_0: |0>───────────╫────────────╫─────────┼──────┼────X──░─┤ H ├┤M├─|0>─»\n",
       "                       ║            ║         │      │       ░ └───┘└╥┘     »\n",
       "  bob_0: |0>───────────╫────────────╫─────────┼──────┼───────░───────╫──────»\n",
       "                       ║            ║         │   ┌──┴──┐    ░       ║      »\n",
       "  ahad_0: 0 ═══════════╩════════════╬═════════╪═══╡ = 1 ╞════════════╬══════»\n",
       "                                    ║      ┌──┴──┐└─────┘            ║      »\n",
       "  aval_0: 0 ════════════════════════╩══════╡ = 1 ╞═══════════════════╬══════»\n",
       "                                           └─────┘                   ║      »\n",
       "  fval_0: 0 ═════════════════════════════════════════════════════════╩══════»\n",
       "                                                                            »\n",
       "  bhad_0: 0 ════════════════════════════════════════════════════════════════»\n",
       "                                                                            »\n",
       "  bval_0: 0 ════════════════════════════════════════════════════════════════»\n",
       "                                                                            »\n",
       "«                      ░  ░                           ░                        »\n",
       "«alice_0: ─────────────░──░───────────────────────────░────────────────────────»\n",
       "«          ┌───┐ ┌───┐ ░  ░ ┌───┐┌─┐      ┌───┐ ┌───┐ ░                        »\n",
       "«fiber_0: ─┤ X ├─┤ H ├─░──░─┤ H ├┤M├─|0>──┤ X ├─┤ H ├─░────────────────────────»\n",
       "«          └─┬─┘ └───┘ ░  ░ └───┘└╥┘      └─┬─┘ └───┘ ░      ┌───┐┌─┐     ┌───┐»\n",
       "«  bob_0: ───┼─────────░──░───────╫─────────┼─────────░──|0>─┤ H ├┤M├─|0>─┤ H ├»\n",
       "«            │         ░  ░       ║         │         ░      └───┘└╥┘     └───┘»\n",
       "« ahad_0: ═══╪════════════════════╬═════════╪══════════════════════╬═══════════»\n",
       "«            │                    ║         │                      ║           »\n",
       "« aval_0: ═══╪════════════════════╬═════════╪══════════════════════╬═══════════»\n",
       "«         ┌──┴──┐                 ║      ┌──┴──┐                   ║           »\n",
       "« fval_0: ╡ = 1 ╞═════════════════╩══════╡ = 1 ╞═══════════════════╬═══════════»\n",
       "«         └─────┘                        └─────┘                   ║           »\n",
       "« bhad_0: ═════════════════════════════════════════════════════════╬═══════════»\n",
       "«                                                                  ║           »\n",
       "« bval_0: ═════════════════════════════════════════════════════════╩═══════════»\n",
       "«                                                                              »\n",
       "«             ░               ░                            ░               ░ »\n",
       "«alice_0: ────░───────────────░────────────────────────────░───────────────░─»\n",
       "«             ░               ░                            ░               ░ »\n",
       "«fiber_0: ────░───────────────░────────────────────────────░───────────────░─»\n",
       "«         ┌─┐ ░      ┌───┐┌─┐ ░      ┌───┐┌─┐     ┌───┐┌─┐ ░      ┌───┐┌─┐ ░ »\n",
       "«  bob_0: ┤M├─░──|0>─┤ H ├┤M├─░──|0>─┤ H ├┤M├─|0>─┤ H ├┤M├─░──|0>─┤ H ├┤M├─░─»\n",
       "«         └╥┘ ░      └───┘└╥┘ ░      └───┘└╥┘     └───┘└╥┘ ░      └───┘└╥┘ ░ »\n",
       "« ahad_0: ═╬═══════════════╬═══════════════╬════════════╬═══════════════╬════»\n",
       "«          ║               ║               ║            ║               ║    »\n",
       "« aval_0: ═╬═══════════════╬═══════════════╬════════════╬═══════════════╬════»\n",
       "«          ║               ║               ║            ║               ║    »\n",
       "« fval_0: ═╬═══════════════╬═══════════════╬════════════╬═══════════════╬════»\n",
       "«          ║               ║               ║            ║               ║    »\n",
       "« bhad_0: ═╩═══════════════╩═══════════════╩════════════╩═══════════════╩════»\n",
       "«                                                                            »\n",
       "« bval_0: ═══════════════════════════════════════════════════════════════════»\n",
       "«                                                                            »\n",
       "«                                   ░                                        \n",
       "«alice_0: ──────────────────────────░────────────────────────────────────────\n",
       "«         ┌───┐┌─┐      ┌───┐ ┌───┐ ░                                        \n",
       "«fiber_0: ┤ H ├┤M├─|0>──┤ X ├─┤ H ├─░────────────────────────────X───────────\n",
       "«         └───┘└╥┘      └─┬─┘ └───┘ ░      ┌───┐┌─┐     ┌───┐┌─┐ │  ┌───┐ ┌─┐\n",
       "«  bob_0: ──────╫─────────┼─────────░──|0>─┤ H ├┤M├─|0>─┤ H ├┤M├─X──┤ H ├─┤M├\n",
       "«               ║         │         ░      └───┘└╥┘     └───┘└╥┘    └─┬─┘ └╥┘\n",
       "« ahad_0: ══════╬═════════╪══════════════════════╬════════════╬═══════╪════╬═\n",
       "«               ║         │                      ║            ║       │    ║ \n",
       "« aval_0: ══════╬═════════╪══════════════════════╬════════════╬═══════╪════╬═\n",
       "«               ║      ┌──┴──┐                   ║            ║       │    ║ \n",
       "« fval_0: ══════╩══════╡ = 1 ╞═══════════════════╬════════════╬═══════╪════╬═\n",
       "«                      └─────┘                   ║            ║    ┌──┴──┐ ║ \n",
       "« bhad_0: ═══════════════════════════════════════╩════════════╩════╡ = 1 ╞═╬═\n",
       "«                                                                  └─────┘ ║ \n",
       "« bval_0: ═════════════════════════════════════════════════════════════════╩═\n",
       "«                                                                            </pre>"
      ],
      "text/plain": [
       "<qiskit.visualization.text.TextDrawing at 0x7f7a486ad048>"
      ]
     },
     "execution_count": 55,
     "metadata": {},
     "output_type": "execute_result"
    }
   ],
   "source": [
    "outputstate = result.get_statevector(qc,decimals=3)\n",
    "print(outputstate)\n",
    "qc.draw()"
   ]
  }
 ],
 "metadata": {
  "kernelspec": {
   "display_name": "Python 3",
   "language": "python",
   "name": "python3"
  },
  "language_info": {
   "codemirror_mode": {
    "name": "ipython",
    "version": 3
   },
   "file_extension": ".py",
   "mimetype": "text/x-python",
   "name": "python",
   "nbconvert_exporter": "python",
   "pygments_lexer": "ipython3",
   "version": "3.6.8"
  }
 },
 "nbformat": 4,
 "nbformat_minor": 2
}
