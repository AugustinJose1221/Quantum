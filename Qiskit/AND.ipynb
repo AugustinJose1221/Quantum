{
 "cells": [
  {
   "cell_type": "code",
   "execution_count": 5,
   "metadata": {},
   "outputs": [],
   "source": [
    "from qiskit import *\n",
    "from qiskit.tools.visualization import plot_histogram\n",
    "from qiskit.providers.aer import noise\n",
    "import numpy as np"
   ]
  },
  {
   "cell_type": "code",
   "execution_count": 7,
   "metadata": {},
   "outputs": [],
   "source": [
    "qr = QuantumRegister(5,'qr')\n",
    "cr = ClassicalRegister(5,'cr')\n",
    "backend = Aer.get_backend('qasm_simulator')"
   ]
  },
  {
   "cell_type": "code",
   "execution_count": 54,
   "metadata": {},
   "outputs": [],
   "source": [
    "def AND (input1,input2, q_1=0,q_2=1,q_out=2):\n",
    "    # The keyword q_1 specifies the qubit used to encode input1\n",
    "    # The keyword q_2 specifies    qubit used to encode input2\n",
    "    # The keyword q_out specifies    qubit to be as output\n",
    "    \n",
    "    qc = QuantumCircuit(qr, cr)\n",
    "    \n",
    "    # prepare input on qubits q1 and q2\n",
    "    if input1=='1':\n",
    "        qc.x( qr[ q_1 ] )\n",
    "    if input2=='1':\n",
    "        qc.x( qr[ q_2 ] )\n",
    "    \n",
    "    qc.ccx(qr[ q_1 ],qr[ q_2 ],qr[ q_out ])\n",
    "    qc.measure(qr[ q_out ],cr[0]) \n",
    "    job = execute(qc, backend, shots=1000)\n",
    "    output = job.result().get_counts()\n",
    "    \n",
    "    return output"
   ]
  },
  {
   "cell_type": "code",
   "execution_count": 55,
   "metadata": {},
   "outputs": [
    {
     "data": {
      "text/plain": [
       "{'00001': 1000}"
      ]
     },
     "execution_count": 55,
     "metadata": {},
     "output_type": "execute_result"
    }
   ],
   "source": [
    "AND('1','1')"
   ]
  }
 ],
 "metadata": {
  "kernelspec": {
   "display_name": "Python 3",
   "language": "python",
   "name": "python3"
  },
  "language_info": {
   "codemirror_mode": {
    "name": "ipython",
    "version": 3
   },
   "file_extension": ".py",
   "mimetype": "text/x-python",
   "name": "python",
   "nbconvert_exporter": "python",
   "pygments_lexer": "ipython3",
   "version": "3.6.8"
  }
 },
 "nbformat": 4,
 "nbformat_minor": 2
}
